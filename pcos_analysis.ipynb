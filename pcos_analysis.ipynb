{
 "cells": [
  {
   "cell_type": "markdown",
   "id": "73d98337",
   "metadata": {},
   "source": [
    "# <center>PCOS - Initial Analysis To Create A Prediction System</center>"
   ]
  },
  {
   "cell_type": "markdown",
   "id": "dd16744f",
   "metadata": {},
   "source": [
    "## Introduction"
   ]
  },
  {
   "cell_type": "markdown",
   "id": "c2629291",
   "metadata": {},
   "source": [
    "**Polycystic ovary syndrome (PCOS)** is a condition in which the ovaries produce an abnormal amount of male sex hormones.</br> The name of this disease describes the numerous small cysts that form in the ovaries.\n",
    "\n",
    "The most common sympthoms of PCOS are:\n",
    "\n",
    "- Irregular periods\n",
    "\n",
    "- Ovaries that are large or have many cysts\n",
    "\n",
    "- Excess body hair\n",
    "\n",
    "- Weight gain\n",
    "\n",
    "- Acne or oily skin\n",
    "\n",
    "- Male-pattern baldness or thinning hair\n",
    "\n",
    "- Infertility \n",
    "\n",
    "- Dark or thick skin patches"
   ]
  },
  {
   "cell_type": "markdown",
   "id": "0793532f",
   "metadata": {},
   "source": [
    "**Dataset specification**\n",
    "\n",
    "The dataset comes from the Kaggle platform. Was attached by Karnik Kapoor and contains information from hospital databases. They include all physical and clinical parameters to determine PCOS and infertility related issues. \n",
    "</br>Important details:\n",
    "\n",
    "- Collected from 10 different hospitals across Kerala, India\n",
    "- The unit used is feet to cm\n",
    "- Blood pressure entered as systolic and diastolic separately\n",
    "- RBS means Random glucose test\n",
    "- Beta-HCG cases are mentioned as Case I and II\n",
    "- Blood Group indications: A+ = 11, A- = 12, B+ = 13, B- = 14, O+ =15, O- = 16, AB+ =17, AB- = 18"
   ]
  },
  {
   "cell_type": "markdown",
   "id": "6bc95fd4",
   "metadata": {},
   "source": [
    "## Load data"
   ]
  },
  {
   "cell_type": "markdown",
   "id": "64e66107",
   "metadata": {},
   "source": [
    "### Import all required libraries"
   ]
  },
  {
   "cell_type": "code",
   "execution_count": 80,
   "id": "191274f5",
   "metadata": {},
   "outputs": [],
   "source": [
    "import pandas as pd\n",
    "import numpy as np\n",
    "import matplotlib.pyplot as plt\n",
    "%matplotlib inline\n",
    "import seaborn as sns\n",
    "from sklearn.model_selection import train_test_split, StratifiedKFold, GridSearchCV\n",
    "#from mlxtend.plotting import plot_confusion_matrix\n",
    "from sklearn.linear_model import LogisticRegression\n",
    "from sklearn.svm import SVC\n",
    "from sklearn.ensemble import RandomForestClassifier, VotingClassifier\n",
    "from sklearn.neighbors import KNeighborsClassifier\n",
    "from sklearn.tree import DecisionTreeClassifier\n",
    "import xgboost\n",
    "import lightgbm\n",
    "from catboost import CatBoostClassifier\n",
    "from sklearn.metrics import confusion_matrix, accuracy_score, average_precision_score\n",
    "import warnings\n",
    "warnings.filterwarnings('ignore')"
   ]
  },
  {
   "cell_type": "markdown",
   "id": "6becaa91",
   "metadata": {},
   "source": [
    "### Create dataframes"
   ]
  },
  {
   "cell_type": "code",
   "execution_count": 2,
   "id": "323a3baa",
   "metadata": {},
   "outputs": [],
   "source": [
    "pcos_inf = pd.read_csv('PCOS_infertility.csv')\n",
    "pcos_without = pd.read_excel('PCOS_without.xlsx', sheet_name=\"Full_new\")"
   ]
  },
  {
   "cell_type": "markdown",
   "id": "1eb5907a",
   "metadata": {},
   "source": [
    "### Merge data"
   ]
  },
  {
   "cell_type": "code",
   "execution_count": 3,
   "id": "8e0be599",
   "metadata": {},
   "outputs": [],
   "source": [
    "pcos = pd.merge(pcos_without,pcos_inf, on='Patient File No.', suffixes={'','_y'},how='left')"
   ]
  },
  {
   "cell_type": "code",
   "execution_count": 4,
   "id": "822c8e12",
   "metadata": {},
   "outputs": [
    {
     "data": {
      "text/plain": [
       "(541, 50)"
      ]
     },
     "execution_count": 4,
     "metadata": {},
     "output_type": "execute_result"
    }
   ],
   "source": [
    "# Number of rows and columns\n",
    "\n",
    "pcos.shape"
   ]
  },
  {
   "cell_type": "code",
   "execution_count": 5,
   "id": "06cf66d4",
   "metadata": {},
   "outputs": [
    {
     "data": {
      "text/html": [
       "<div>\n",
       "<style scoped>\n",
       "    .dataframe tbody tr th:only-of-type {\n",
       "        vertical-align: middle;\n",
       "    }\n",
       "\n",
       "    .dataframe tbody tr th {\n",
       "        vertical-align: top;\n",
       "    }\n",
       "\n",
       "    .dataframe thead th {\n",
       "        text-align: right;\n",
       "    }\n",
       "</style>\n",
       "<table border=\"1\" class=\"dataframe\">\n",
       "  <thead>\n",
       "    <tr style=\"text-align: right;\">\n",
       "      <th></th>\n",
       "      <th>Sl. No</th>\n",
       "      <th>Patient File No.</th>\n",
       "      <th>PCOS (Y/N)</th>\n",
       "      <th>Age (yrs)</th>\n",
       "      <th>Weight (Kg)</th>\n",
       "      <th>Height(Cm)</th>\n",
       "      <th>BMI</th>\n",
       "      <th>Blood Group</th>\n",
       "      <th>Pulse rate(bpm)</th>\n",
       "      <th>RR (breaths/min)</th>\n",
       "      <th>...</th>\n",
       "      <th>Follicle No. (R)</th>\n",
       "      <th>Avg. F size (L) (mm)</th>\n",
       "      <th>Avg. F size (R) (mm)</th>\n",
       "      <th>Endometrium (mm)</th>\n",
       "      <th>Unnamed: 44</th>\n",
       "      <th>Sl. No_y</th>\n",
       "      <th>PCOS (Y/N)_y</th>\n",
       "      <th>I   beta-HCG(mIU/mL)_y</th>\n",
       "      <th>II    beta-HCG(mIU/mL)_y</th>\n",
       "      <th>AMH(ng/mL)_y</th>\n",
       "    </tr>\n",
       "  </thead>\n",
       "  <tbody>\n",
       "    <tr>\n",
       "      <th>0</th>\n",
       "      <td>1</td>\n",
       "      <td>1</td>\n",
       "      <td>0</td>\n",
       "      <td>28</td>\n",
       "      <td>44.6</td>\n",
       "      <td>152.0</td>\n",
       "      <td>19.300000</td>\n",
       "      <td>15</td>\n",
       "      <td>78</td>\n",
       "      <td>22</td>\n",
       "      <td>...</td>\n",
       "      <td>3</td>\n",
       "      <td>18.0</td>\n",
       "      <td>18.0</td>\n",
       "      <td>8.5</td>\n",
       "      <td>NaN</td>\n",
       "      <td>NaN</td>\n",
       "      <td>NaN</td>\n",
       "      <td>NaN</td>\n",
       "      <td>NaN</td>\n",
       "      <td>NaN</td>\n",
       "    </tr>\n",
       "    <tr>\n",
       "      <th>1</th>\n",
       "      <td>2</td>\n",
       "      <td>2</td>\n",
       "      <td>0</td>\n",
       "      <td>36</td>\n",
       "      <td>65.0</td>\n",
       "      <td>161.5</td>\n",
       "      <td>24.921163</td>\n",
       "      <td>15</td>\n",
       "      <td>74</td>\n",
       "      <td>20</td>\n",
       "      <td>...</td>\n",
       "      <td>5</td>\n",
       "      <td>15.0</td>\n",
       "      <td>14.0</td>\n",
       "      <td>3.7</td>\n",
       "      <td>NaN</td>\n",
       "      <td>NaN</td>\n",
       "      <td>NaN</td>\n",
       "      <td>NaN</td>\n",
       "      <td>NaN</td>\n",
       "      <td>NaN</td>\n",
       "    </tr>\n",
       "    <tr>\n",
       "      <th>2</th>\n",
       "      <td>3</td>\n",
       "      <td>3</td>\n",
       "      <td>1</td>\n",
       "      <td>33</td>\n",
       "      <td>68.8</td>\n",
       "      <td>165.0</td>\n",
       "      <td>25.270891</td>\n",
       "      <td>11</td>\n",
       "      <td>72</td>\n",
       "      <td>18</td>\n",
       "      <td>...</td>\n",
       "      <td>15</td>\n",
       "      <td>18.0</td>\n",
       "      <td>20.0</td>\n",
       "      <td>10.0</td>\n",
       "      <td>NaN</td>\n",
       "      <td>NaN</td>\n",
       "      <td>NaN</td>\n",
       "      <td>NaN</td>\n",
       "      <td>NaN</td>\n",
       "      <td>NaN</td>\n",
       "    </tr>\n",
       "    <tr>\n",
       "      <th>3</th>\n",
       "      <td>4</td>\n",
       "      <td>4</td>\n",
       "      <td>0</td>\n",
       "      <td>37</td>\n",
       "      <td>65.0</td>\n",
       "      <td>148.0</td>\n",
       "      <td>29.674945</td>\n",
       "      <td>13</td>\n",
       "      <td>72</td>\n",
       "      <td>20</td>\n",
       "      <td>...</td>\n",
       "      <td>2</td>\n",
       "      <td>15.0</td>\n",
       "      <td>14.0</td>\n",
       "      <td>7.5</td>\n",
       "      <td>NaN</td>\n",
       "      <td>NaN</td>\n",
       "      <td>NaN</td>\n",
       "      <td>NaN</td>\n",
       "      <td>NaN</td>\n",
       "      <td>NaN</td>\n",
       "    </tr>\n",
       "    <tr>\n",
       "      <th>4</th>\n",
       "      <td>5</td>\n",
       "      <td>5</td>\n",
       "      <td>0</td>\n",
       "      <td>25</td>\n",
       "      <td>52.0</td>\n",
       "      <td>161.0</td>\n",
       "      <td>20.060954</td>\n",
       "      <td>11</td>\n",
       "      <td>72</td>\n",
       "      <td>18</td>\n",
       "      <td>...</td>\n",
       "      <td>4</td>\n",
       "      <td>16.0</td>\n",
       "      <td>14.0</td>\n",
       "      <td>7.0</td>\n",
       "      <td>NaN</td>\n",
       "      <td>NaN</td>\n",
       "      <td>NaN</td>\n",
       "      <td>NaN</td>\n",
       "      <td>NaN</td>\n",
       "      <td>NaN</td>\n",
       "    </tr>\n",
       "  </tbody>\n",
       "</table>\n",
       "<p>5 rows × 50 columns</p>\n",
       "</div>"
      ],
      "text/plain": [
       "   Sl. No  Patient File No.  PCOS (Y/N)   Age (yrs)  Weight (Kg)  Height(Cm)   \\\n",
       "0       1                 1           0          28         44.6        152.0   \n",
       "1       2                 2           0          36         65.0        161.5   \n",
       "2       3                 3           1          33         68.8        165.0   \n",
       "3       4                 4           0          37         65.0        148.0   \n",
       "4       5                 5           0          25         52.0        161.0   \n",
       "\n",
       "         BMI  Blood Group  Pulse rate(bpm)   RR (breaths/min)  ...  \\\n",
       "0  19.300000           15                78                22  ...   \n",
       "1  24.921163           15                74                20  ...   \n",
       "2  25.270891           11                72                18  ...   \n",
       "3  29.674945           13                72                20  ...   \n",
       "4  20.060954           11                72                18  ...   \n",
       "\n",
       "   Follicle No. (R)  Avg. F size (L) (mm)  Avg. F size (R) (mm)  \\\n",
       "0                 3                  18.0                  18.0   \n",
       "1                 5                  15.0                  14.0   \n",
       "2                15                  18.0                  20.0   \n",
       "3                 2                  15.0                  14.0   \n",
       "4                 4                  16.0                  14.0   \n",
       "\n",
       "   Endometrium (mm)  Unnamed: 44  Sl. No_y  PCOS (Y/N)_y  \\\n",
       "0               8.5          NaN       NaN           NaN   \n",
       "1               3.7          NaN       NaN           NaN   \n",
       "2              10.0          NaN       NaN           NaN   \n",
       "3               7.5          NaN       NaN           NaN   \n",
       "4               7.0          NaN       NaN           NaN   \n",
       "\n",
       "    I   beta-HCG(mIU/mL)_y  II    beta-HCG(mIU/mL)_y  AMH(ng/mL)_y  \n",
       "0                      NaN                       NaN           NaN  \n",
       "1                      NaN                       NaN           NaN  \n",
       "2                      NaN                       NaN           NaN  \n",
       "3                      NaN                       NaN           NaN  \n",
       "4                      NaN                       NaN           NaN  \n",
       "\n",
       "[5 rows x 50 columns]"
      ]
     },
     "execution_count": 5,
     "metadata": {},
     "output_type": "execute_result"
    }
   ],
   "source": [
    "# This is how our dataframe looks like\n",
    "\n",
    "pcos.head()"
   ]
  },
  {
   "cell_type": "markdown",
   "id": "4e2c6ba0",
   "metadata": {},
   "source": [
    "## Data cleaning and preprocessing"
   ]
  },
  {
   "cell_type": "code",
   "execution_count": 6,
   "id": "7b555408",
   "metadata": {},
   "outputs": [
    {
     "data": {
      "text/plain": [
       "Index(['Sl. No', 'Patient File No.', 'PCOS (Y/N)', ' Age (yrs)', 'Weight (Kg)',\n",
       "       'Height(Cm) ', 'BMI', 'Blood Group', 'Pulse rate(bpm) ',\n",
       "       'RR (breaths/min)', 'Hb(g/dl)', 'Cycle(R/I)', 'Cycle length(days)',\n",
       "       'Marraige Status (Yrs)', 'Pregnant(Y/N)', 'No. of aborptions',\n",
       "       '  I   beta-HCG(mIU/mL)', 'II    beta-HCG(mIU/mL)', 'FSH(mIU/mL)',\n",
       "       'LH(mIU/mL)', 'FSH/LH', 'Hip(inch)', 'Waist(inch)', 'Waist:Hip Ratio',\n",
       "       'TSH (mIU/L)', 'AMH(ng/mL)', 'PRL(ng/mL)', 'Vit D3 (ng/mL)',\n",
       "       'PRG(ng/mL)', 'RBS(mg/dl)', 'Weight gain(Y/N)', 'hair growth(Y/N)',\n",
       "       'Skin darkening (Y/N)', 'Hair loss(Y/N)', 'Pimples(Y/N)',\n",
       "       'Fast food (Y/N)', 'Reg.Exercise(Y/N)', 'BP _Systolic (mmHg)',\n",
       "       'BP _Diastolic (mmHg)', 'Follicle No. (L)', 'Follicle No. (R)',\n",
       "       'Avg. F size (L) (mm)', 'Avg. F size (R) (mm)', 'Endometrium (mm)',\n",
       "       'Unnamed: 44', 'Sl. No_y', 'PCOS (Y/N)_y', '  I   beta-HCG(mIU/mL)_y',\n",
       "       'II    beta-HCG(mIU/mL)_y', 'AMH(ng/mL)_y'],\n",
       "      dtype='object')"
      ]
     },
     "execution_count": 6,
     "metadata": {},
     "output_type": "execute_result"
    }
   ],
   "source": [
    "# Check column names\n",
    "\n",
    "pcos.columns"
   ]
  },
  {
   "cell_type": "code",
   "execution_count": 7,
   "id": "8dfe02fe",
   "metadata": {},
   "outputs": [],
   "source": [
    "# Drop repeated and unnecessary features\n",
    "\n",
    "pcos = pcos.drop(['Unnamed: 44', 'Sl. No_y', 'PCOS (Y/N)_y', '  I   beta-HCG(mIU/mL)_y',\n",
    "       'II    beta-HCG(mIU/mL)_y', 'AMH(ng/mL)_y', \"Sl. No\", \"Patient File No.\"], axis=1)"
   ]
  },
  {
   "cell_type": "code",
   "execution_count": 8,
   "id": "b20f9f74",
   "metadata": {},
   "outputs": [],
   "source": [
    "# Rename target column and the names of columns that won't be properly changed by the following function\n",
    "\n",
    "pcos = pcos.rename(columns = {\"PCOS (Y/N)\":\"Target\", \"Follicle No. (L)\":\"follicle_no_l\",\n",
    "                              \"Follicle No. (R)\":\"follicle_no_r\",\"Avg. F size (L) (mm)\":\"avg_fsize_l\",\n",
    "                              \"Avg. F size (R) (mm)\":\"avg_fsize_r\"})"
   ]
  },
  {
   "cell_type": "code",
   "execution_count": 9,
   "id": "a978d53b",
   "metadata": {},
   "outputs": [],
   "source": [
    "# Get rid of unwanted characters and simplify column names\n",
    "\n",
    "import re\n",
    "\n",
    "def clean_col(col):\n",
    "    col = re.sub(\"\\(.*?\\)\",\"\", col)\n",
    "    col = col.strip()\n",
    "    col = col.replace(\" \",\"_\")\n",
    "    col = col.replace(\"__\",\"\")\n",
    "    col = col.replace(\".\",\"\")\n",
    "    col = col.replace(\"-\",\"_\")\n",
    "    col = col.lower()\n",
    "    return col\n",
    "\n",
    "pcos.columns = [clean_col(i) for i in pcos.columns]"
   ]
  },
  {
   "cell_type": "code",
   "execution_count": 10,
   "id": "5acf1b8c",
   "metadata": {},
   "outputs": [],
   "source": [
    "# Recent fixes\n",
    "\n",
    "pcos = pcos.rename(columns = {\"waist:hip_ratio\":\"hip_ratio\",\"regexercise\":\"reg_exercise\",\"bpsystolic\":\"bp_systolic\",\n",
    "                             \"bpdiastolic\":\"bp_diastolic\"})"
   ]
  },
  {
   "cell_type": "code",
   "execution_count": 11,
   "id": "52a3152b",
   "metadata": {},
   "outputs": [
    {
     "data": {
      "text/plain": [
       "Index(['target', 'age', 'weight', 'height', 'bmi', 'blood_group', 'pulse_rate',\n",
       "       'rr', 'hb', 'cycle', 'cycle_length', 'marraige_status', 'pregnant',\n",
       "       'no_of_aborptions', 'i_beta_hcg', 'iibeta_hcg', 'fsh', 'lh', 'fsh/lh',\n",
       "       'hip', 'waist', 'hip_ratio', 'tsh', 'amh', 'prl', 'vit_d3', 'prg',\n",
       "       'rbs', 'weight_gain', 'hair_growth', 'skin_darkening', 'hair_loss',\n",
       "       'pimples', 'fast_food', 'reg_exercise', 'bp_systolic', 'bp_diastolic',\n",
       "       'follicle_no_l', 'follicle_no_r', 'avg_fsize_l', 'avg_fsize_r',\n",
       "       'endometrium'],\n",
       "      dtype='object')"
      ]
     },
     "execution_count": 11,
     "metadata": {},
     "output_type": "execute_result"
    }
   ],
   "source": [
    "# Column names after cleaning\n",
    "\n",
    "pcos.columns"
   ]
  },
  {
   "cell_type": "code",
   "execution_count": 12,
   "id": "749555ac",
   "metadata": {},
   "outputs": [
    {
     "name": "stdout",
     "output_type": "stream",
     "text": [
      "<class 'pandas.core.frame.DataFrame'>\n",
      "Int64Index: 541 entries, 0 to 540\n",
      "Data columns (total 42 columns):\n",
      " #   Column            Non-Null Count  Dtype  \n",
      "---  ------            --------------  -----  \n",
      " 0   target            541 non-null    int64  \n",
      " 1   age               541 non-null    int64  \n",
      " 2   weight            541 non-null    float64\n",
      " 3   height            541 non-null    float64\n",
      " 4   bmi               541 non-null    float64\n",
      " 5   blood_group       541 non-null    int64  \n",
      " 6   pulse_rate        541 non-null    int64  \n",
      " 7   rr                541 non-null    int64  \n",
      " 8   hb                541 non-null    float64\n",
      " 9   cycle             541 non-null    int64  \n",
      " 10  cycle_length      541 non-null    int64  \n",
      " 11  marraige_status   540 non-null    float64\n",
      " 12  pregnant          541 non-null    int64  \n",
      " 13  no_of_aborptions  541 non-null    int64  \n",
      " 14  i_beta_hcg        541 non-null    float64\n",
      " 15  iibeta_hcg        541 non-null    object \n",
      " 16  fsh               541 non-null    float64\n",
      " 17  lh                541 non-null    float64\n",
      " 18  fsh/lh            541 non-null    float64\n",
      " 19  hip               541 non-null    int64  \n",
      " 20  waist             541 non-null    int64  \n",
      " 21  hip_ratio         541 non-null    float64\n",
      " 22  tsh               541 non-null    float64\n",
      " 23  amh               541 non-null    object \n",
      " 24  prl               541 non-null    float64\n",
      " 25  vit_d3            541 non-null    float64\n",
      " 26  prg               541 non-null    float64\n",
      " 27  rbs               541 non-null    float64\n",
      " 28  weight_gain       541 non-null    int64  \n",
      " 29  hair_growth       541 non-null    int64  \n",
      " 30  skin_darkening    541 non-null    int64  \n",
      " 31  hair_loss         541 non-null    int64  \n",
      " 32  pimples           541 non-null    int64  \n",
      " 33  fast_food         540 non-null    float64\n",
      " 34  reg_exercise      541 non-null    int64  \n",
      " 35  bp_systolic       541 non-null    int64  \n",
      " 36  bp_diastolic      541 non-null    int64  \n",
      " 37  follicle_no_l     541 non-null    int64  \n",
      " 38  follicle_no_r     541 non-null    int64  \n",
      " 39  avg_fsize_l       541 non-null    float64\n",
      " 40  avg_fsize_r       541 non-null    float64\n",
      " 41  endometrium       541 non-null    float64\n",
      "dtypes: float64(19), int64(21), object(2)\n",
      "memory usage: 181.7+ KB\n"
     ]
    }
   ],
   "source": [
    "# List the types of values in columns\n",
    "\n",
    "pcos.info()"
   ]
  },
  {
   "cell_type": "code",
   "execution_count": 13,
   "id": "3ca547b3",
   "metadata": {},
   "outputs": [],
   "source": [
    "# Type correction\n",
    "\n",
    "pcos[\"iibeta_hcg\"] = pd.to_numeric(pcos[\"iibeta_hcg\"], errors='coerce')\n",
    "pcos[\"amh\"] = pd.to_numeric(pcos[\"amh\"], errors='coerce')"
   ]
  },
  {
   "cell_type": "code",
   "execution_count": 14,
   "id": "790c3d1f",
   "metadata": {
    "scrolled": true
   },
   "outputs": [
    {
     "data": {
      "text/plain": [
       "target              0\n",
       "age                 0\n",
       "weight              0\n",
       "height              0\n",
       "bmi                 0\n",
       "blood_group         0\n",
       "pulse_rate          0\n",
       "rr                  0\n",
       "hb                  0\n",
       "cycle               0\n",
       "cycle_length        0\n",
       "marraige_status     1\n",
       "pregnant            0\n",
       "no_of_aborptions    0\n",
       "i_beta_hcg          0\n",
       "iibeta_hcg          1\n",
       "fsh                 0\n",
       "lh                  0\n",
       "fsh/lh              0\n",
       "hip                 0\n",
       "waist               0\n",
       "hip_ratio           0\n",
       "tsh                 0\n",
       "amh                 1\n",
       "prl                 0\n",
       "vit_d3              0\n",
       "prg                 0\n",
       "rbs                 0\n",
       "weight_gain         0\n",
       "hair_growth         0\n",
       "skin_darkening      0\n",
       "hair_loss           0\n",
       "pimples             0\n",
       "fast_food           1\n",
       "reg_exercise        0\n",
       "bp_systolic         0\n",
       "bp_diastolic        0\n",
       "follicle_no_l       0\n",
       "follicle_no_r       0\n",
       "avg_fsize_l         0\n",
       "avg_fsize_r         0\n",
       "endometrium         0\n",
       "dtype: int64"
      ]
     },
     "execution_count": 14,
     "metadata": {},
     "output_type": "execute_result"
    }
   ],
   "source": [
    "# Check the data for missing values\n",
    "\n",
    "pcos.isnull().sum()"
   ]
  },
  {
   "cell_type": "code",
   "execution_count": 15,
   "id": "95401a8a",
   "metadata": {},
   "outputs": [],
   "source": [
    "# Deal with missing values\n",
    "\n",
    "pcos[\"marraige_status\"].fillna(pcos[\"marraige_status\"].median(),inplace=True)\n",
    "pcos[\"iibeta_hcg\"].fillna(pcos[\"iibeta_hcg\"].median(),inplace=True)\n",
    "pcos[\"amh\"].fillna(pcos[\"amh\"].median(),inplace=True)\n",
    "pcos[\"fast_food\"].fillna(pcos[\"fast_food\"].median(),inplace=True)"
   ]
  },
  {
   "cell_type": "markdown",
   "id": "92e4f98d",
   "metadata": {},
   "source": [
    "## Relationships assessment"
   ]
  },
  {
   "cell_type": "code",
   "execution_count": 16,
   "id": "c2c990c1",
   "metadata": {},
   "outputs": [
    {
     "data": {
      "text/plain": [
       "target              1.000000\n",
       "follicle_no_r       0.648327\n",
       "follicle_no_l       0.603346\n",
       "skin_darkening      0.475733\n",
       "hair_growth         0.464667\n",
       "weight_gain         0.441047\n",
       "cycle               0.401644\n",
       "fast_food           0.376183\n",
       "pimples             0.286077\n",
       "amh                 0.264141\n",
       "weight              0.211938\n",
       "bmi                 0.199534\n",
       "hair_loss           0.172879\n",
       "waist               0.164598\n",
       "hip                 0.162297\n",
       "avg_fsize_l         0.132992\n",
       "endometrium         0.106648\n",
       "avg_fsize_r         0.097690\n",
       "pulse_rate          0.091821\n",
       "hb                  0.087170\n",
       "vit_d3              0.085494\n",
       "height              0.068254\n",
       "reg_exercise        0.065337\n",
       "lh                  0.063879\n",
       "rbs                 0.048922\n",
       "bp_diastolic        0.038032\n",
       "rr                  0.036928\n",
       "blood_group         0.036433\n",
       "iibeta_hcg          0.012760\n",
       "hip_ratio           0.012386\n",
       "bp_systolic         0.007942\n",
       "prl                 0.005143\n",
       "tsh                -0.010140\n",
       "fsh/lh             -0.018336\n",
       "pregnant           -0.027565\n",
       "i_beta_hcg         -0.027617\n",
       "fsh                -0.030319\n",
       "prg                -0.043834\n",
       "no_of_aborptions   -0.057158\n",
       "marraige_status    -0.113056\n",
       "age                -0.168513\n",
       "cycle_length       -0.178480\n",
       "Name: target, dtype: float64"
      ]
     },
     "execution_count": 16,
     "metadata": {},
     "output_type": "execute_result"
    }
   ],
   "source": [
    "# Correlation of features with target\n",
    "\n",
    "cormat = pcos.corr()\n",
    "cormat['target'].sort_values(ascending=False)"
   ]
  },
  {
   "cell_type": "markdown",
   "id": "de19d54e",
   "metadata": {},
   "source": [
    "- As expected, features containing the number of follicle are the most strongly correlated\n",
    "- Skin darkening, hair growth, weight gain and cycle type - fairly high correlations; also the most common symptoms of PCOS"
   ]
  },
  {
   "cell_type": "markdown",
   "id": "7f096a0f",
   "metadata": {},
   "source": [
    "## Short exploratory data analysis"
   ]
  },
  {
   "cell_type": "markdown",
   "id": "8a06b658",
   "metadata": {},
   "source": [
    "### Contents"
   ]
  },
  {
   "cell_type": "markdown",
   "id": "2fd7b138",
   "metadata": {},
   "source": [
    "- Data balance\n",
    "- Cycle feature analysis\n",
    "- Distribution of selected variables"
   ]
  },
  {
   "cell_type": "code",
   "execution_count": 17,
   "id": "6c23a1fe",
   "metadata": {},
   "outputs": [
    {
     "data": {
      "text/html": [
       "\n",
       "<style>\n",
       ".output_png {\n",
       "    display: table-cell;\n",
       "    text-align: center;\n",
       "    vertical-align: middle;\n",
       "}\n",
       "</style>\n"
      ],
      "text/plain": [
       "<IPython.core.display.HTML object>"
      ]
     },
     "execution_count": 17,
     "metadata": {},
     "output_type": "execute_result"
    }
   ],
   "source": [
    "# Plots centering\n",
    "\n",
    "from IPython.core.display import HTML\n",
    "HTML(\"\"\"\n",
    "<style>\n",
    ".output_png {\n",
    "    display: table-cell;\n",
    "    text-align: center;\n",
    "    vertical-align: middle;\n",
    "}\n",
    "</style>\n",
    "\"\"\")"
   ]
  },
  {
   "cell_type": "code",
   "execution_count": 18,
   "id": "3f1019f0",
   "metadata": {},
   "outputs": [],
   "source": [
    "sns.set_palette(\"Set2\")"
   ]
  },
  {
   "cell_type": "markdown",
   "id": "30d5bd1d",
   "metadata": {},
   "source": [
    "### Data balance"
   ]
  },
  {
   "cell_type": "code",
   "execution_count": 19,
   "id": "85a4f77b",
   "metadata": {
    "scrolled": true
   },
   "outputs": [
    {
     "data": {
      "text/plain": [
       "0    364\n",
       "1    177\n",
       "Name: target, dtype: int64"
      ]
     },
     "execution_count": 19,
     "metadata": {},
     "output_type": "execute_result"
    }
   ],
   "source": [
    "(pcos['target'].value_counts())\n"
   ]
  },
  {
   "cell_type": "code",
   "execution_count": 20,
   "id": "a838fd3b",
   "metadata": {},
   "outputs": [
    {
     "data": {
      "text/plain": [
       "[Text(0, 0, '364'), Text(0, 0, '177')]"
      ]
     },
     "execution_count": 20,
     "metadata": {},
     "output_type": "execute_result"
    },
    {
     "data": {
      "image/png": "[encoded data removed]",
      "text/plain": [
       "<Figure size 640x480 with 1 Axes>"
      ]
     },
     "metadata": {},
     "output_type": "display_data"
    }
   ],
   "source": [
    "balance_plot = sns.countplot(x='target', data=pcos)\n",
    "balance_plot.spines[['top','right','bottom','left']].set_visible(False)\n",
    "balance_plot.text(x=0.15, y=440, s='Balance of Data',\n",
    "        size=15, weight='bold')\n",
    "balance_plot.set_yticks([0, 100, 200, 300])\n",
    "balance_plot.set(ylabel=None, xlabel=None)\n",
    "balance_plot.bar_label(balance_plot.containers[0])"
   ]
  },
  {
   "cell_type": "markdown",
   "id": "2c313c92",
   "metadata": {},
   "source": [
    "- Ratio 2:1\n",
    "- Imbalanced data\n",
    "- Can cause that the machine learning classifier will be more biased towards the majority class causing the minority class to be misclassified"
   ]
  },
  {
   "cell_type": "markdown",
   "id": "75cf99c2",
   "metadata": {},
   "source": [
    "### Cycle feature"
   ]
  },
  {
   "cell_type": "code",
   "execution_count": 21,
   "id": "e9313c47",
   "metadata": {},
   "outputs": [
    {
     "data": {
      "text/plain": [
       "target  cycle\n",
       "0       2        308\n",
       "        4         56\n",
       "1       4         94\n",
       "        2         82\n",
       "        5          1\n",
       "Name: cycle, dtype: int64"
      ]
     },
     "execution_count": 21,
     "metadata": {},
     "output_type": "execute_result"
    }
   ],
   "source": [
    "(pcos.groupby('target')['cycle'].value_counts())"
   ]
  },
  {
   "cell_type": "code",
   "execution_count": 22,
   "id": "29d7c975",
   "metadata": {},
   "outputs": [],
   "source": [
    "# Found the wrong value \"5\" in cycle, so delete it.\n",
    "\n",
    "pcos.drop(pcos[pcos['cycle'] == 5].index, inplace=True)"
   ]
  },
  {
   "cell_type": "code",
   "execution_count": 23,
   "id": "c3c9301e",
   "metadata": {
    "scrolled": false
   },
   "outputs": [
    {
     "data": {
      "text/plain": [
       "Text(-0.72, 380, 'The Number of Times a Given Cycle Type Occurs')"
      ]
     },
     "execution_count": 23,
     "metadata": {},
     "output_type": "execute_result"
    },
    {
     "data": {
      "image/png": "[encoded data removed]",
      "text/plain": [
       "<Figure size 640x480 with 1 Axes>"
      ]
     },
     "metadata": {},
     "output_type": "display_data"
    }
   ],
   "source": [
    "# Plot\n",
    "\n",
    "cycle_plot = sns.countplot(data=pcos,x='cycle',hue='target')\n",
    "cycle_plot.bar_label(cycle_plot.containers[0])\n",
    "cycle_plot.bar_label(cycle_plot.containers[1])\n",
    "cycle_plot.set_xticklabels(['Regular','Irregular'])\n",
    "cycle_plot.set_yticks([0, 150, 300])\n",
    "cycle_plot.set(xlabel=None, ylabel=None)\n",
    "cycle_plot.spines[['top','right','bottom','left']].set_visible(False)\n",
    "cycle_plot.axhline(y = 150, color = 'grey', linestyle = '-', alpha=0.2)\n",
    "cycle_plot.text(x=-0.72, y=380, s='The Number of Times a Given Cycle Type Occurs',\n",
    "        size=15, weight='bold')"
   ]
  },
  {
   "cell_type": "markdown",
   "id": "183873a5",
   "metadata": {},
   "source": [
    "- We have data on 390 people with regular cycles and 150 with irregular cycles\n",
    "- There is a visible effect of the presence of PCOS on the regularity of the menstrual cycle, with a higher proportion of people with PCOS having irregular cycles (94 out of 176, 53.4%) compared to those without PCOS (56 out of 364, 15.4%)\n",
    "- A significant number of people with PCOS still have regular cycles (82 out of 176, 46.6%)"
   ]
  },
  {
   "cell_type": "markdown",
   "id": "8714d4ff",
   "metadata": {},
   "source": [
    "### Follicile number vs PCOS"
   ]
  },
  {
   "cell_type": "code",
   "execution_count": 24,
   "id": "7f421c22",
   "metadata": {},
   "outputs": [
    {
     "data": {
      "text/plain": [
       "Text(0.5, 0.98, 'Follicle Count vs Target')"
      ]
     },
     "execution_count": 24,
     "metadata": {},
     "output_type": "execute_result"
    },
    {
     "data": {
      "image/png": "[encoded data removed]",
      "text/plain": [
       "<Figure size 1500x800 with 4 Axes>"
      ]
     },
     "metadata": {},
     "output_type": "display_data"
    }
   ],
   "source": [
    "# Chart: target vs number of follicles\n",
    "\n",
    "fig, axs = plt.subplots(2, 2, figsize=(15,8))\n",
    "\n",
    "a = pcos.loc[pcos['target'] == 1][\"follicle_no_r\"]\n",
    "g1 = sns.countplot(x=a, ax=axs[0, 0], palette=\"Set2\")\n",
    "g1.spines[['top','right']].set_visible(False)\n",
    "g1.grid(b=True, color='black', linewidth=0.075, axis='y')\n",
    "axs[0, 0].set_title(\"Follicle count (right) for Target = 1\")\n",
    "\n",
    "b = pcos.loc[pcos['target'] == 1][\"follicle_no_l\"]\n",
    "g2 = sns.countplot(x=b, ax=axs[0, 1], palette=\"Set2\")\n",
    "g2.spines[['top','right']].set_visible(False)\n",
    "g2.grid(b=True, color='black', linewidth=0.075, axis='y')\n",
    "axs[0, 1].set_title(\"Follicle count (left) for Target = 1\")\n",
    "\n",
    "c = pcos.loc[pcos['target'] == 0][\"follicle_no_r\"]\n",
    "g3 = sns.countplot(x=c, ax=axs[1, 0], palette=\"Set2\")\n",
    "g3.spines[['top','right']].set_visible(False)\n",
    "g3.grid(b=True, color='black', linewidth=0.075, axis='y')\n",
    "axs[1, 0].set_title(\"Follicle count (right) for Target = 0\")\n",
    "\n",
    "d = pcos.loc[pcos['target'] == 0][\"follicle_no_l\"]\n",
    "g4 = sns.countplot(x=d, ax=axs[1, 1], palette=\"Set2\")\n",
    "g4.spines[['top','right']].set_visible(False)\n",
    "g4.grid(b=True, color='black', linewidth=0.075, axis='y')\n",
    "axs[1, 1].set_title(\"Follicle count (left) for Target = 0\")\n",
    "\n",
    "plt.subplots_adjust(wspace=0.2, hspace=0.4)\n",
    "fig.suptitle(\"Follicle Count vs Target\", size=20, weight='bold')"
   ]
  },
  {
   "cell_type": "code",
   "execution_count": 25,
   "id": "17426364",
   "metadata": {},
   "outputs": [
    {
     "data": {
      "image/png": "[encoded data removed]",
      "text/plain": [
       "<Figure size 1500x600 with 2 Axes>"
      ]
     },
     "metadata": {},
     "output_type": "display_data"
    }
   ],
   "source": [
    "# Density plot\n",
    "fig, (ax1, ax2) = plt.subplots(1, 2, figsize=(15,6))\n",
    "\n",
    "a = pcos.loc[pcos['target'] == 1][[\"follicle_no_r\", \"follicle_no_l\"]]\n",
    "sns.kdeplot(data=a, ax=ax1, shade=True)\n",
    "sns.despine(left=True, bottom=True)\n",
    "ax1.set_title(\"PCOS Cases\")\n",
    "\n",
    "b = pcos.loc[pcos['target'] == 0][[\"follicle_no_r\", \"follicle_no_l\"]]\n",
    "sns.kdeplot(data=b, ax=ax2, shade=True)\n",
    "sns.despine(left=True, bottom=True)\n",
    "ax2.set_title(\"Non-PCOS Cases\")\n",
    "\n",
    "fig.suptitle(\"Comparison of Follicle Numbers in PCOS Cases and Non-Cases\", size=20, weight='bold')\n",
    "fig.subplots_adjust(top=0.8)"
   ]
  },
  {
   "cell_type": "markdown",
   "id": "779f16ba",
   "metadata": {},
   "source": [
    "**Consistent with the previously shown relationship between the number of follicles and PCOS, the following relationships can be observed in the graphs and the following conclusions can be drawn:**\n",
    "\n",
    "- The more follicles, the greater the risk of developing PCOS\n",
    "- The number of follicles is an important risk factor for PCOS\n",
    "- Monitoring the number of follicles can help detect PCOS"
   ]
  },
  {
   "cell_type": "markdown",
   "id": "7eac8e85",
   "metadata": {},
   "source": [
    "..."
   ]
  },
  {
   "cell_type": "markdown",
   "id": "a7fcece5",
   "metadata": {},
   "source": [
    "## Model building"
   ]
  },
  {
   "cell_type": "markdown",
   "id": "e727b1c9",
   "metadata": {},
   "source": [
    "### Algorithms"
   ]
  },
  {
   "cell_type": "markdown",
   "id": "7e33bcc4",
   "metadata": {},
   "source": [
    "We will compare the following machine learning algorithms:\n",
    "\n",
    "- Logistic Regression\n",
    "- KNN\n",
    "- Decision Tree\n",
    "- SVM\n",
    "- Random Forest\n",
    "- XGBRF\n",
    "- CatBoost"
   ]
  },
  {
   "cell_type": "markdown",
   "id": "3b9a82f4",
   "metadata": {},
   "source": [
    "### Metric"
   ]
  },
  {
   "cell_type": "markdown",
   "id": "5520216d",
   "metadata": {},
   "source": [
    "Probably, the best choice will be to use the **precision-recall curve** and **area under curve (PR AUC)**. This will optimize both precision and recall across all thresholds. Additionally, the **ROC curve** and the **area under the curve (ROC AUC)** can be taken into account. This will maximize the true positive rate and minimize the false positive rate."
   ]
  },
  {
   "cell_type": "markdown",
   "id": "34c99eea",
   "metadata": {},
   "source": [
    "### Train-Test Split"
   ]
  },
  {
   "cell_type": "code",
   "execution_count": 26,
   "id": "b27e72cb",
   "metadata": {},
   "outputs": [],
   "source": [
    "X = pcos.drop(labels = [\"target\"],axis = 1)\n",
    "y = pcos.target"
   ]
  },
  {
   "cell_type": "code",
   "execution_count": 27,
   "id": "6bdfc5b5",
   "metadata": {},
   "outputs": [],
   "source": [
    "X_train, X_test, y_train, y_test = train_test_split(X, y, test_size=0.3)"
   ]
  },
  {
   "cell_type": "markdown",
   "id": "b1cde937",
   "metadata": {},
   "source": [
    "### Hyperparameter Tuning and Cross Validation"
   ]
  },
  {
   "cell_type": "code",
   "execution_count": 67,
   "id": "530817b8",
   "metadata": {},
   "outputs": [],
   "source": [
    "random_state = 42\n",
    "\n",
    "classifier = [DecisionTreeClassifier(random_state = random_state),\n",
    "             SVC(random_state = random_state),\n",
    "             RandomForestClassifier(random_state = random_state),\n",
    "             LogisticRegression(random_state = random_state, max_iter=1000000),\n",
    "             KNeighborsClassifier()]\n",
    "\n",
    "dt_param_grid = {\"min_samples_split\" : np.arange(10,500,10),\n",
    "                \"max_depth\": np.arange(1,20,2)}\n",
    "\n",
    "svc_param_grid = {\"kernel\" : [\"poly\", \"rbf\"],\n",
    "                 \"gamma\": [0.01, 0.1, 1],\n",
    "                 \"C\": [1,10,50,100,200,300,1000]}\n",
    "\n",
    "rf_param_grid = {\"max_features\": ['auto', 'sqrt', 'log2'],\n",
    "                \"n_estimators\":[100,300,500,1000],\n",
    "                \"criterion\":[\"gini\"],\n",
    "                'max_depth' : [4,5,6,7,8,9,10,12],}\n",
    "\n",
    "logreg_param_grid = {\"C\":np.logspace(-3,3,7)}\n",
    "\n",
    "knn_param_grid = {\"n_neighbors\": np.arange(1,20,2),\n",
    "                 \"weights\": [\"uniform\",\"distance\"],\n",
    "                 \"metric\":[\"euclidean\",\"manhattan\"]}\n",
    "\n",
    "classifier_param = [dt_param_grid, svc_param_grid,\n",
    "                   rf_param_grid,\n",
    "                   logreg_param_grid,\n",
    "                   knn_param_grid]"
   ]
  },
  {
   "cell_type": "code",
   "execution_count": 78,
   "id": "b5323c39",
   "metadata": {
    "scrolled": false
   },
   "outputs": [
    {
     "name": "stdout",
     "output_type": "stream",
     "text": [
      "Fitting 10 folds for each of 490 candidates, totalling 4900 fits\n",
      "75.13\n",
      "Fitting 10 folds for each of 42 candidates, totalling 420 fits\n",
      "78.37\n",
      "Fitting 10 folds for each of 96 candidates, totalling 960 fits\n",
      "93.06\n",
      "Fitting 10 folds for each of 7 candidates, totalling 70 fits\n",
      "90.07\n",
      "Fitting 10 folds for each of 40 candidates, totalling 400 fits\n",
      "62.62\n"
     ]
    }
   ],
   "source": [
    "cv_result = []\n",
    "best_estimators = []\n",
    "for i in range(len(classifier)):\n",
    "    clf = GridSearchCV(classifier[i], param_grid=classifier_param[i], cv = StratifiedKFold(n_splits = 10),\n",
    "                       scoring = \"average_precision\", n_jobs = -1,verbose = 1)\n",
    "    clf.fit(X_train,y_train)\n",
    "    cv_result.append(round(clf.best_score_*100,2))\n",
    "    best_estimators.append(clf.best_estimator_)\n",
    "    print(cv_result[i])"
   ]
  },
  {
   "cell_type": "markdown",
   "id": "98c7ec2b",
   "metadata": {},
   "source": [
    "### Best estimators"
   ]
  },
  {
   "cell_type": "code",
   "execution_count": 71,
   "id": "3e841fd3",
   "metadata": {},
   "outputs": [
    {
     "data": {
      "text/plain": [
       "[DecisionTreeClassifier(max_depth=5, min_samples_split=20, random_state=42),\n",
       " SVC(C=1, gamma=0.01, kernel='poly', random_state=42),\n",
       " RandomForestClassifier(max_depth=6, max_features='log2', n_estimators=1000,\n",
       "                        random_state=42),\n",
       " LogisticRegression(max_iter=1000000, random_state=42),\n",
       " KNeighborsClassifier(metric='manhattan', n_neighbors=13, weights='distance')]"
      ]
     },
     "execution_count": 71,
     "metadata": {},
     "output_type": "execute_result"
    }
   ],
   "source": [
    "best_estimators"
   ]
  },
  {
   "cell_type": "code",
   "execution_count": 72,
   "id": "fe032a13",
   "metadata": {},
   "outputs": [],
   "source": [
    "dt = best_estimators[0]\n",
    "svm = best_estimators[1]\n",
    "rf = best_estimators[2]\n",
    "lr = best_estimators[3]\n",
    "knn = best_estimators[4]"
   ]
  },
  {
   "cell_type": "markdown",
   "id": "bf7da360",
   "metadata": {},
   "source": [
    "### XGBRF and CatBoost Classsifier"
   ]
  },
  {
   "cell_type": "code",
   "execution_count": 95,
   "id": "7ca51b25",
   "metadata": {},
   "outputs": [
    {
     "name": "stdout",
     "output_type": "stream",
     "text": [
      "Training PR: % 91.53\n",
      "Testing PR: % 86.42\n"
     ]
    }
   ],
   "source": []
  },
  {
   "cell_type": "markdown",
   "id": "06e4493e",
   "metadata": {},
   "source": [
    "### Results"
   ]
  },
  {
   "cell_type": "code",
   "execution_count": null,
   "id": "9065bb60",
   "metadata": {},
   "outputs": [],
   "source": []
  }
 ],
 "metadata": {
  "kernelspec": {
   "display_name": "Python 3 (ipykernel)",
   "language": "python",
   "name": "python3"
  },
  "language_info": {
   "codemirror_mode": {
    "name": "ipython",
    "version": 3
   },
   "file_extension": ".py",
   "mimetype": "text/x-python",
   "name": "python",
   "nbconvert_exporter": "python",
   "pygments_lexer": "ipython3",
   "version": "3.8.13"
  }
 },
 "nbformat": 4,
 "nbformat_minor": 5
}
